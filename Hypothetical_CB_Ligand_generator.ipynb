{
 "cells": [
  {
   "cell_type": "code",
   "execution_count": 13,
   "metadata": {
    "collapsed": false,
    "deletable": true,
    "editable": true
   },
   "outputs": [],
   "source": [
    "from rdkit import Chem\n",
    "from rdkit.Chem.Draw import IPythonConsole\n",
    "from rdkit.Chem import Draw\n",
    "import pandas as pd\n",
    "import matplotlib.pyplot as plt\n",
    "%matplotlib inline  \n",
    "# uncomment this if you try the tutorial and end up with low-quality images\n",
    "# IPythonConsole.ipython_useSVG=True"
   ]
  },
  {
   "cell_type": "code",
   "execution_count": 49,
   "metadata": {
    "collapsed": false,
    "deletable": true,
    "editable": true
   },
   "outputs": [],
   "source": [
    "#loading the csv file \n",
    "Col_name=['Name','Pub','SMILES','InverseAG','Antagon','Agonist','GBiased', 'Arrestin', 'partial', 'Comment', 'Ref']\n",
    "Data=pd.read_csv('cb2_ligands - Sheet1.csv', header=None, names= Col_name, skiprows=1)"
   ]
  },
  {
   "cell_type": "code",
   "execution_count": 51,
   "metadata": {
    "collapsed": false,
    "deletable": true,
    "editable": true
   },
   "outputs": [
    {
     "data": {
      "text/html": [
       "<table border=\"1\" class=\"dataframe\">\n",
       "  <thead>\n",
       "    <tr style=\"text-align: right;\">\n",
       "      <th></th>\n",
       "      <th>Name</th>\n",
       "      <th>Pub</th>\n",
       "      <th>SMILES</th>\n",
       "      <th>InverseAG</th>\n",
       "      <th>Antagon</th>\n",
       "      <th>Agonist</th>\n",
       "      <th>GBiased</th>\n",
       "      <th>Arrestin</th>\n",
       "      <th>partial</th>\n",
       "      <th>Comment</th>\n",
       "      <th>Ref</th>\n",
       "    </tr>\n",
       "  </thead>\n",
       "  <tbody>\n",
       "    <tr>\n",
       "      <th>0</th>\n",
       "      <td>Cannabinol</td>\n",
       "      <td>2543</td>\n",
       "      <td>CCCCCC1=CC2=C(C(=C1)O)C3=C(C=CC(=C3)C)C(O2)(C)C</td>\n",
       "      <td>0</td>\n",
       "      <td>0</td>\n",
       "      <td>0</td>\n",
       "      <td>NaN</td>\n",
       "      <td>NaN</td>\n",
       "      <td>1</td>\n",
       "      <td>Weak CB1 binder and strong CB2 agonist</td>\n",
       "      <td>NaN</td>\n",
       "    </tr>\n",
       "    <tr>\n",
       "      <th>1</th>\n",
       "      <td>JWH-018</td>\n",
       "      <td>10382701</td>\n",
       "      <td>CCCCCN1C=C(C2=CC=CC=C21)C(=O)C3=CC=CC4=CC=CC=C43</td>\n",
       "      <td>0</td>\n",
       "      <td>0</td>\n",
       "      <td>1</td>\n",
       "      <td>NaN</td>\n",
       "      <td>NaN</td>\n",
       "      <td>0</td>\n",
       "      <td>Strong CB1 agonist</td>\n",
       "      <td>NaN</td>\n",
       "    </tr>\n",
       "    <tr>\n",
       "      <th>2</th>\n",
       "      <td>Win-55212-2</td>\n",
       "      <td>5311501</td>\n",
       "      <td>CC1=C(C2=C3N1C(COC3=CC=C2)CN4CCOCC4)C(=O)C5=CC=CC6=CC=CC=C65</td>\n",
       "      <td>0</td>\n",
       "      <td>0</td>\n",
       "      <td>1</td>\n",
       "      <td>NaN</td>\n",
       "      <td>NaN</td>\n",
       "      <td>0</td>\n",
       "      <td>Strong CB1 agonist, Alzheimer</td>\n",
       "      <td>https://pubchem.ncbi.nlm.nih.gov/compound/5311501#section=Top</td>\n",
       "    </tr>\n",
       "    <tr>\n",
       "      <th>3</th>\n",
       "      <td>JWH-133</td>\n",
       "      <td>6918505</td>\n",
       "      <td>CCCC(C)(C)C1=CC2=C(C=C1)C3CC(=CCC3C(O2)(C)C)C</td>\n",
       "      <td>0</td>\n",
       "      <td>0</td>\n",
       "      <td>1</td>\n",
       "      <td>NaN</td>\n",
       "      <td>NaN</td>\n",
       "      <td>0</td>\n",
       "      <td>Strong CB2 agonist, Alzheimer, Cancer</td>\n",
       "      <td>https://pubchem.ncbi.nlm.nih.gov/compound/6918505</td>\n",
       "    </tr>\n",
       "    <tr>\n",
       "      <th>4</th>\n",
       "      <td>HU-210</td>\n",
       "      <td>9821569</td>\n",
       "      <td>CCCCCCC(C)(C)C1=CC2=C(C3CC(=CCC3C(O2)(C)C)CO)C(=C1)O</td>\n",
       "      <td>0</td>\n",
       "      <td>0</td>\n",
       "      <td>1</td>\n",
       "      <td>1.0</td>\n",
       "      <td>0.0</td>\n",
       "      <td>0</td>\n",
       "      <td>Both CB1 and CB2 agonist, Alzheimer</td>\n",
       "      <td>https://pubchem.ncbi.nlm.nih.gov/compound/9821569</td>\n",
       "    </tr>\n",
       "  </tbody>\n",
       "</table>"
      ],
      "text/plain": [
       "          Name       Pub                                                        SMILES  InverseAG  Antagon  Agonist  GBiased  Arrestin  partial                                 Comment                                                            Ref\n",
       "0   Cannabinol      2543               CCCCCC1=CC2=C(C(=C1)O)C3=C(C=CC(=C3)C)C(O2)(C)C          0        0        0      NaN       NaN        1  Weak CB1 binder and strong CB2 agonist                                                            NaN\n",
       "1      JWH-018  10382701              CCCCCN1C=C(C2=CC=CC=C21)C(=O)C3=CC=CC4=CC=CC=C43          0        0        1      NaN       NaN        0                      Strong CB1 agonist                                                            NaN\n",
       "2  Win-55212-2   5311501  CC1=C(C2=C3N1C(COC3=CC=C2)CN4CCOCC4)C(=O)C5=CC=CC6=CC=CC=C65          0        0        1      NaN       NaN        0           Strong CB1 agonist, Alzheimer  https://pubchem.ncbi.nlm.nih.gov/compound/5311501#section=Top\n",
       "3      JWH-133   6918505                 CCCC(C)(C)C1=CC2=C(C=C1)C3CC(=CCC3C(O2)(C)C)C          0        0        1      NaN       NaN        0   Strong CB2 agonist, Alzheimer, Cancer              https://pubchem.ncbi.nlm.nih.gov/compound/6918505\n",
       "4       HU-210   9821569          CCCCCCC(C)(C)C1=CC2=C(C3CC(=CCC3C(O2)(C)C)CO)C(=C1)O          0        0        1      1.0       0.0        0     Both CB1 and CB2 agonist, Alzheimer              https://pubchem.ncbi.nlm.nih.gov/compound/9821569"
      ]
     },
     "execution_count": 51,
     "metadata": {},
     "output_type": "execute_result"
    }
   ],
   "source": [
    "Data.head()"
   ]
  },
  {
   "cell_type": "code",
   "execution_count": 46,
   "metadata": {
    "collapsed": false,
    "deletable": true,
    "editable": true
   },
   "outputs": [
    {
     "data": {
      "text/html": [
       "<table border=\"1\" class=\"dataframe\">\n",
       "  <thead>\n",
       "    <tr style=\"text-align: right;\">\n",
       "      <th></th>\n",
       "      <th>Name</th>\n",
       "      <th>Pub</th>\n",
       "      <th>SMILES</th>\n",
       "      <th>InverseAG</th>\n",
       "      <th>Antagon</th>\n",
       "      <th>Agonist</th>\n",
       "      <th>GBiased</th>\n",
       "      <th>Arrestin</th>\n",
       "      <th>partial</th>\n",
       "      <th>Comment</th>\n",
       "      <th>Ref</th>\n",
       "      <th>ROMol</th>\n",
       "    </tr>\n",
       "  </thead>\n",
       "  <tbody>\n",
       "    <tr>\n",
       "      <th>0</th>\n",
       "      <td>Cannabinol</td>\n",
       "      <td>2543</td>\n",
       "      <td>CCCCCC1=CC2=C(C(=C1)O)C3=C(C=CC(=C3)C)C(O2)(C)C</td>\n",
       "      <td>0</td>\n",
       "      <td>0</td>\n",
       "      <td>0</td>\n",
       "      <td>NaN</td>\n",
       "      <td>NaN</td>\n",
       "      <td>1</td>\n",
       "      <td>Weak CB1 binder and strong CB2 agonist</td>\n",
       "      <td>NaN</td>\n",
       "      <td><img src=\"data:image/png;base64,iVBORw0KGgoAAAANSUhEUgAAAMgAAADICAIAAAAiOjnJAAAE3UlEQVR4nO3d0ZKbRhRF0SaV//9l8qCJQoSlEdAHLrBW+cGukWRAe5pWgz3DOI4Nevvr6A3gmoRFhLCIEBYRwiJCWEQIiwhhESEsIoRFhLCIEBYRwiJCWEQIiwhhESEsIoRFhLCIEBYRwiJCWEQIiwhhESEsIoRFhLCIEBYRwiJCWEQIiwhhESEsIoRFhLCIEBYRwiJCWEQIiwhhESEsIoRFhLCIEBYRwiJCWEQIiwhhESEsIoRFhLCIEBYRwiJCWEQIiwhhESEsIoRFhLDuaxiG3IsLiwhh3dQwDOM45l5fWEQIiwhh3VH6PNiERYiwiBAWEcK6nR0mWE1YhAiLCGHtYhh+fj3/eNiG7HEebK39vcPfcXfD0J7v5fT3l2bEOsh0ALsiI9ZBjhi3djsPNiPWfUTvvpozYuWN439nvX0HqmlMj7Fqt0Frv7Hx1nacs89jmj9ghzfdiHUFv8Y0NY7jDm0ZsfJiw9Wzp1/fxPkj020Zsc7tQxyfh7H0uGXECksOV/P3btE58d2LdGHEuoLvz4kvcuOWsLKG1nY4I2wpI9SWBVJ+2ur7msIKys1gur9y97aExY++bQkrYhiGna/NddGxLZP3bv74UX/PGwpWS2yksDb5dd0o8ZnrFFO3vcNaveJSxzeLkI/HPL66z7W5avYI67zniKlvviXePaZyWydbID3kHJH27i6Uzw94fqn4/vbdvJ5hLb1QVf9YP82386hz+lmOWJ+wplOKRU7U1lORnS1+3PqsY43juHonE9cToo7a2Ze1sS7H7eJ3N5xx3Fpt0c5+/tzT8bh1P/4lwioudGHu81LF85Gfn172e7JKWGUPUMjL/m753FPz0NXaoHUHKP0BLbrS/fjNutd/SXPpizyfcv1LOt9/811j0bWVvEevi1phtY8H62IX5rp47nK1yMqF1f7fx00WXbts89J9z50HW82w2mSR5vB1yPpWT+Sjy4dFw2rXnXzMbd/U79taegZYrW5YG3Vp60R1vrQ1/dJuMU1dNqxWe2E6keyWuWl3Vw6rbWjrZf6RO7f2fdktc9O+Lh5W67c2dqJ5W4WNvH5Yrd/aWP226mxele3YwZb5R981p9y1lDph3WLEeui1NlZ/3KrgXv9g9XHpY/Vzp9eMC96cWCr3e4W1Ud+2SnXQnbDWW9fWtXt6EtYyLzEtamt+03rHDavW640m7728TN4/v52XuW9sKWGtUeRCb2XCWumlrUUx3WHB4uK7l7blpvVr/+NVI9YmG28au/CPL/Sp8FDj5Oc3XYuwjra5rYLnwWaOdXbzVbQib6g51im9XFmaxvRuwXbn4IR1Hv8WM/z2P7y9efbrPbEdN21OWOXNfjrruiKMWPc2/yG/NeZMSwmrkumy1smXuCw3ECEsIoRFhAXSYuaT96+eVO59NHkvplgfqzkVEiEsIoRFhLCIEBYRwiJCWEQI6wqqrY42YREiLCKERYSwiBAWEcIiQlhECIsIYREhLCKERYSwiBAWEcIiQlhECIsIYREhLCKERYSwiBAWEcIiQlhECIsIYREhLCKERYSwiBAWEcIiQlhECIsIYREhLCKERYSwiBAWEcIiQlhECIsIYREhLCKERYSwiBAWEcIiQlhECIsIYREhLCKERYSwiBAWEcIiQlhECIsIYREhLCL+AQlpPB1QJVnTAAAAAElFTkSuQmCC\" alt=\"Mol\"/></td>\n",
       "    </tr>\n",
       "    <tr>\n",
       "      <th>1</th>\n",
       "      <td>JWH-018</td>\n",
       "      <td>10382701</td>\n",
       "      <td>CCCCCN1C=C(C2=CC=CC=C21)C(=O)C3=CC=CC4=CC=CC=C43</td>\n",
       "      <td>0</td>\n",
       "      <td>0</td>\n",
       "      <td>1</td>\n",
       "      <td>NaN</td>\n",
       "      <td>NaN</td>\n",
       "      <td>0</td>\n",
       "      <td>Strong CB1 agonist</td>\n",
       "      <td>NaN</td>\n",
       "      <td><img src=\"data:image/png;base64,iVBORw0KGgoAAAANSUhEUgAAAMgAAADICAIAAAAiOjnJAAAFfElEQVR4nO3d3XabOhQAYamr7//K9ILEJRiwHTSStjTfVU9Wc0zIZIu/uHlZliSV9qf1BmhMhiWEYQlhWEIYlhCGJYRhCWFYQhiWEIYlhGEJYVhCGJYQhiWEYQlhWEIYlhCGJYRhCWFYQhiWEIYlhGEJYVhCGJYQhiWEYQlhWEIYlhCGJYRhCWFYQhiWEIYlhGEJYVhCGJYQhiWEYQlhWEL8bb0BleSc1z/4DybUMXJYj5jSpqecs21VMNRe3paUzoeTbVUQfhcfjqV3Piv6F965qPv3o2Omw79sW6jAx1jXWbycZMuy2BYn5J49DOLNA6x3/le6L/DEWnkdoU/hw7rZkwsixCvvX2213orRxAuLGDC2VVy8sCC2VZZh/WdbBQULCzrQ3p5a2lYRwcJSFIb1Ywp66aGUSGH5XQ8kUlgKxLCEmD0sD7AgYcLaFdB2Y/RSmLC2vNrUvzBh7WIq0pbrICdMWIlpS5BIYSXbiiNYWIlfE1VEvLCSMUUQMqz0sy0XxA5FDSvdbstxhQocVio0t1wTCbHDSvfayjm7hkIG+WF9/1Knb0FTR/jfK1xtfz3w+pek2wf02JjmW0Ia6if17Eb1m28cUmNX5Py/p+2fhzPIxFrtjrd+8bkj/Zi1NVRYK+PoQfizwoLAC63znXsONfyLrGXlF8TdsdQcB+8DLoVdG/qAfculcK/wgjjNaeDOYGGV+bZ5V/u+wcLqzKzjKhnWmftDK09W0o5hnSq5IM4XmWEdKP77P7NVlbzc8GzbxPPQ+vQS17S3iQzrynMWF8PMh3C2DOuHl891vfmk1/q5Mxc271f+rOwvRs9cVXJiPcTt4PpUo9UXZVgHikRWZyl8+RLvHBQSDCulod8d5OJfA0Vf1+tYYFX0Pcc77xlGb9sgYW130Ue7K+6s+vWW17m/PkhY6amnT/ceVFXPD0qg2xY7rO1uWZaD/7zeb4+YYs2qdG/Q1mk9cFgvb8Ety1Ve1WIq/o0suHxzkYU8K1x3xfP+3A2txwe/PyWnzVlS0EOrIipcCokX1vWgOmwrfeX1tep9f6TeIljwG1n8bAOKLFJYOeez6zLbD75aH3+cn8eaVcUXQe7LjxEWEUHlpHq+J01sW+9hRZwrkCiL4Krrs8L1yx6mqjunYPSF3OKnh71PrPG0uit89orQ0DKseoo8icAtXmUjM6yOXD+eeva2cvdflIi162Oskdx5EqGagkdahlXD/UNv9AYfsc4alhCGhSt1paDmY4P3GRYryoOExbfNsCLp+bHBna7DCrQfD007rlLnYYUGVYU+NliQYQlhWAh0ESw4tCZ9uiGomQ+tHrxXGNL2Bt/h9Gpes2EVVn9cHb7E2VpZbdv6HdSrnpeSM9W2+dcvVGELnVixvZxMrfQ7D0I/7d78DYyav2lWpxMr4grYleZ7r7vLDTnnAaqK9SQCoa+J1f/+6kGIvdTLxBpjUG1Fv4N+UxcTa7CkUFH2VeOJNd6g2oryJAKh5cQKtJv0qTYTa+xBtRXiSQRCg4kVawd1ItxO6+LgfWz9P4lAMKyq+nwSgWBYNVy/P8LLdwoJV1UyrJq6fRKBYFiV9PwkAsGw2guazrVe7hVqMIYlhGEJYVhCGJYQhiWEYQlhWEIYlhCGJYRhCWFYQlS9CR367Rj0kUphmdRsaoQV9BlI3cGG5aCaFhWWSU0OCcu1T4XDclBpVSwsk9JWmbBc+7RT5sq7VWnHWzpCGJYQhiWEYQlhWEIYlhCGJYRhCWFYQhiWEIYlhGEJYVhCGJYQhiWEYQlhWEIYlhCGJYRhCWFYQhiWEIYlhGEJYVhCGJYQhiWEYQlhWEIYlhCGJYRhCWFYQhiWEIYlhGEJYVhCGJYQhiWEYQnxD5CagqMj2hMiAAAAAElFTkSuQmCC\" alt=\"Mol\"/></td>\n",
       "    </tr>\n",
       "    <tr>\n",
       "      <th>2</th>\n",
       "      <td>Win-55212-2</td>\n",
       "      <td>5311501</td>\n",
       "      <td>CC1=C(C2=C3N1C(COC3=CC=C2)CN4CCOCC4)C(=O)C5=CC=CC6=CC=CC=C65</td>\n",
       "      <td>0</td>\n",
       "      <td>0</td>\n",
       "      <td>1</td>\n",
       "      <td>NaN</td>\n",
       "      <td>NaN</td>\n",
       "      <td>0</td>\n",
       "      <td>Strong CB1 agonist, Alzheimer</td>\n",
       "      <td>https://pubchem.ncbi.nlm.nih.gov/compound/5311501#section=Top</td>\n",
       "      <td><img src=\"data:image/png;base64,iVBORw0KGgoAAAANSUhEUgAAAMgAAADICAIAAAAiOjnJAAAFlElEQVR4nO3d0ZKiOBhAYZja93/lzEVmFQFRkv+EEM9Xe2HNdCsjx4SG0DunlCYp2p+rN0BjMiwhDEsIwxLCsIQwLCEMSwjDEsKwhDAsIQxLCMMSwrCEMCwhDEsIwxLCsIQwLCEMSwjDEsKwhDAsIQxLCMMSwrCEMCwhDEsIwxLCsIQwLCEMSwjDEsKwhDAsIQxLCMMSwrCEMCwhDEsIwxLCsIQwLCEMSwjDEsKwhDAsIQxLCMMSwrCEMCwhDEsIwxLCsIQwLCEMSwjDEsKwhDAsIQxLCMMSwrCEMCwhDEsIwxLCsIQwLCEM61fM8zzPc7OX+6/ZK+kquaeU0uox+6INXkNXeZfRPOP73anws5YzSJQ88aWUlgE9/iEpJXpmdCq8yGOnRo8cB5Nd7ik/eMyM0NAFhnXqA/FbM/I8P3taPq591s/HT6uelqmFbMMDFdbZj0KDWX9gZ+NoMHR5jPXZYzf07GwWOSnuqIsJ63z+t9h5/Tv7Hi57WqVWCZgKSw8aUkpxxxt9S4k7eD/LqXAg+QN0dVJL4Qe40WHVjTnLT7JurbsRq6ePscpFh2UXzfV5pqa7EatPt/ihtavCDOsC8+bBeAxLT4FjXqcXoXcvpu3NRc8/6mcWOPbYeV3NXOEiwmLO9W1PXOxesF98Pbif8pNHXa/t/3CtXvVU+DjXF30Oqp9zWsu1AJXX1LaXfgO3syudToUF8i4PH7S2z1m2xnf79SET4jLNsue52bKZEGcHrfC25vn5jq+e+fu8jr+meIZdrWQv+Fej69+7Dmu6dEJcHeTtFnCc15d77mwcu5txqpIGt1REfL5XB+/VSxQqnyBk0DrYhm8yqh+Eir+gbPgMT435SaoijZCVMw1+kuf20O7Gf/+07/7tzZLKep8Ku3UwMlXupNW8VrPs+PGHlbEWwD7ZRSNP4EK/lqcf64+jPz5t2be/+94Gx1jYzRTLc5cNvm8DOvvw7rXyg/BXrHm23Xeg2Z3QVFgF+5U+df7/w9W0Bd2LFabmbVlOi82SykY+xlrdhXLwlR32FOWq65JgWGfXMDU4af7+pbtr6+6XqNkR69ZvjWoMux7r7Ce+/hT/3ceYWMOGVeD9qq97u6T4McM69Va+XhBEtqfYfUfBMcOq0c86sFsbMKz7fspHMmBY9QoGLWteGS2sqB2c0pXrhgfIdOQz75yB16pHGSqs2A/6wZWDdwueOhxmrtqqocIinF0I1cnqhsaXnLfGCSt8p35cz7QU3lNxGZcnlY0TFnf71+5r0dtQsCphd+Fo/ZaU6fGwoFjs6k1i6WbZs03n7zC7fNwaKqxpCltaVX8faZt5ucOk/m3G5VsQL+D+s5AbyOLbml6XQU9dJpWNc4zVm/BjvtVRV7dJZSOG1eF60DiVN4c1M+JUWCf80Ju6ca/XpLLRrhX2Y3V7TLiUUrdVTYa10udlmTsyLMQj0J8t1bCeljVcvS23N+JPhUvbX7G0/Ms331R5psDhaho8rO3N86tfC7PzHS//69GfzaKeU+GL+h/iHK4yw3qLO1PwCwxrbfWrRE619eOj1NLQYeVrO/m/c7fbl7eVWdjQB+9T+a3Nvf1+r9sZesSqs/2tZV+ysMmwjp1qy5iWDOtbX3bjcJWNfoxV7eBgy5MRB/x4feXUvTqaDEsQj7GEMCwhDEsIwxLCsIQwLCEMSwjDEsKwhDAsIQxLCMMSwrCEMCwhDEsIwxLCsIQwLCEMSwjDEsKwhDAsIQxLCMMSwrCEMCwhDEsIwxLCsIQwLCEMSwjDEsKwhDAsIQxLCMMSwrCEMCwhDEsIwxLCsIQwLCEMSwjDEsKwhDAsIQxLCMMSwrCEMCwhDEsIwxLCsIQwLCEMSwjDEsKwhDAsIQxLCMMSwrCEMCwhDEsIwxLCsIQwLCH+AnpscjbngLODAAAAAElFTkSuQmCC\" alt=\"Mol\"/></td>\n",
       "    </tr>\n",
       "    <tr>\n",
       "      <th>3</th>\n",
       "      <td>JWH-133</td>\n",
       "      <td>6918505</td>\n",
       "      <td>CCCC(C)(C)C1=CC2=C(C=C1)C3CC(=CCC3C(O2)(C)C)C</td>\n",
       "      <td>0</td>\n",
       "      <td>0</td>\n",
       "      <td>1</td>\n",
       "      <td>NaN</td>\n",
       "      <td>NaN</td>\n",
       "      <td>0</td>\n",
       "      <td>Strong CB2 agonist, Alzheimer, Cancer</td>\n",
       "      <td>https://pubchem.ncbi.nlm.nih.gov/compound/6918505</td>\n",
       "      <td><img src=\"data:image/png;base64,iVBORw0KGgoAAAANSUhEUgAAAMgAAADICAIAAAAiOjnJAAAEoElEQVR4nO3c0ZKaShSGUUid939lcmFqiqMjg0P/zW5Y625SBhW/bLBhMi/LMkFrf85+AVyTsIgQFhHCIkJYRAiLCGERISwihEWEsIgQFhHCIkJYRAiLCGERISwihEWEsIgQFhHCIkJYRAiLCGERISwihEWEsIgQFhHCIkJYRAiLCGERISwihEWEsIgQFhHCIkJYRAiLCGERISwihEWEsIgQFhHCIkJYRAiLCGERISwihEWEsIgQFhHCIkJYRAiLCGERISwihEVE+7DmeW6+TYZjYhHRPqxlWQwtTCwiImEZWphYRKTCMrRuzsQiQlhEBMNyNLwzE4uIbFiG1m2ZWETEwzK07snEIqJHWIbWDf3X7ZnWbS3L0u15OUWPsOZ5fippY4Bp7hqeP/L2T/BS1Y+PX/+os0H1OxTutC7Jmdm4sifv63H1i0qc9Y8rGNZTVQ5qt5IKq1VJhtagIudYT1XVH1e+MTQXP3kfoiqrIc21/9QTp1a5Oq2GhDSeWPXn0zs7LwxEV0PG3XuvWr6T6KlVYqe/2+a7Yl4fXP89niV1jlV/H228wnd/7nLnfs0+/g6rVg03e/lNna7NOtaV9ghNtD8U1o+s7St8LOEe32Dz/XbuF9g2Ya13bu4NNPkI63ffxOmLc+XubogKVdVqaEVtvLzEbGsWVp+de+RZ6n/2rXz6Tk2sf3zt31Dk389gYe0/dXh9WHR3FzkaVngNDy3DSu/cbze+ZzFz42GEDDax9ut/i/PpQ6vOuJqa3+iXuy/vyF6rf7fg9ZZRxvhN6CPfBJu/mA1nFVytqmmI/467yV6LfuRPW55XQs9Y32XPsR46nPdsX33vsN5dcFxN9cNquNcSkf24wf3r3Y8fP315NauaQmGVui7b7cvakfXur7/7OuG206xZ1VR5YlXeaw+JW9C+vUn1x8cUlArr4Jyof7W426/jbqRWubDsxCpyUa/50fDcaVq5py/BsH79/Sg9AA5uv/nvjNQ/6P9Cv3OszvcDhQz3S95nKbHyvqzknmJ9atJk6VJVG0qEtVb5up6S9isXVs7BoeUg+JGKYXUbWh9d0VPVR+oukCa8W3m6zHp3HfcK653LrHfXUTSs6AW+PVsedL27jqJhFXRi5SOqePL+EDqFv+oHWU3dsCJU1UvpsCovlrKtdFiNzfNkXPVym7CqVnXVQ3P1sJodDS/6+ZVVPSwGNUBYTuFHVP3r99v/TOZ/P5R+C/dUceX99U75H1Y11/GJrIYSYR29Nfnbx39tU2pnOC2s7C/wrBcXqi40XFvvsNwjcBO9w9LTTQyw3MCISpy8t7csTt7PddGwJj2dbIxDocX34YwRFsMRFhHCIkJYRAiLCGERISwihEXEMGG5ej2WYcJiLMIiQlhECIsIYREhLCKERYSwiBAWEcIiQlhECIsIYREhLCKERYSwiBAWEcIiQlhECIsIYREhLCKERYSwiBAWEcIiQlhECIsIYREhLCKERYSwiBAWEcIiQlhECIsIYREhLCKERYSwiBAWEcIiQlhECIsIYREhLCKERYSwiBAWEcIiQlhECIsIYREhLCKERYSwiBAWEX8BEmGQeGPz8BwAAAAASUVORK5CYII=\" alt=\"Mol\"/></td>\n",
       "    </tr>\n",
       "    <tr>\n",
       "      <th>4</th>\n",
       "      <td>HU-210</td>\n",
       "      <td>9821569</td>\n",
       "      <td>CCCCCCC(C)(C)C1=CC2=C(C3CC(=CCC3C(O2)(C)C)CO)C(=C1)O</td>\n",
       "      <td>0</td>\n",
       "      <td>0</td>\n",
       "      <td>1</td>\n",
       "      <td>1.0</td>\n",
       "      <td>0.0</td>\n",
       "      <td>0</td>\n",
       "      <td>Both CB1 and CB2 agonist, Alzheimer</td>\n",
       "      <td>https://pubchem.ncbi.nlm.nih.gov/compound/9821569</td>\n",
       "      <td><img src=\"data:image/png;base64,iVBORw0KGgoAAAANSUhEUgAAAMgAAADICAIAAAAiOjnJAAAEx0lEQVR4nO3dbZOaSBiGUUnl//9l8sGEIQyjvPQNj3BObdVONtFFvWzapmfS9X3/gNZ+nX0AXJOwiBAWEcIiQlhECIsIYREhLCKERYSwiBAWEcIiQlhECIsIYREhLCKERYSwiBAWEcIiQlhECIsIYREhLCKERYSwiBAWEcIiQlhECIsIYREhLCKERYSwiBAWEcIiQlhECIsIYREhLCKERYSwiBAWEcIiQlhECIsIYREhLCKERYSwiBAWEcIiQlhECIsIYREhLCKERYSwiBAWEcK6jq7rzj6EL8IiQlhECIsIYREhLCKERYSwiBAWEcIiQlhECIuI32cfAC8Nl//6vsWdfV1M7Fvc4QvCKqzrvnp6fr24s9kL0umYxoT1Std1R74Y7407e/77/98fejr9sIX1mf51M86n1NvA5P06+r6vsyXLiPWj0waAYWq1ZlJVjbCKGU/YH5/X08CpkAhhBXX/LP/zO4eoOtMsp8KU8RRtycpkqc90+wlr3s6XeXLz8deTEeVKMY0Jq73JWDVJZ/LLyZLm/nHreTY8vVdzrMZeV/Vd3/enR5Bwr7DWzqY33P+qqgbDpLvO7HunG50Kl8+m959KKpyMznWXsBbOpptM2E+vqsI06xZvrOXP8uaPbE2qet62SRNHbr2adf0Ra+1c5/F/JZPfev2/aNLE/rYmNz9lb9bFw9r5Ci1Zf6pzBpwcz2D2qNJD2sXDaii9/nSw2c8xDV15uWHbi73wVpP1pyZV7V9r2PCQQwsclw3rmCEk9Kpsu9tSo+ZnnArXTghKPcXHqPaQax3NrLWfcdp+pArdpNoBNO+y+ohV5DPOwYbLOwv/cMGHXDqs5U9ZwWd2m7W7uMqqGPvTWW/E6GfJzXfydhVtv7ZPeOkR63g1TyuPd6toBRVdbij7AuesvfTU/Plpu3RSMaxPrGrnq7LtIVfevBU/Fd5wCWrteeoCD/m77EM6eAnqdG8fb9lNhc0vpQdHLEtQsxk9vyh16TpxGKmwbrgE9fh5y8Dw3ws+2M379F+LhFXkjXiin1YHHoElqIabTq1jfZjZiVeF915uCGi/3GC4ei2xBLVN6CT41DgsVS3Udglqw71Fq3q0DUtVqxR5pkKvWrOwVLVaP/qBfQ3ubMWgdcA3gLQJS1VFdF33Nq9jvq1IEGfb/cPW5u5y3bdDJlhuuKAXl5WiE/YxI9a9HLaKVnHbDDmHraIJ644O2MglLCKERYSwCui6v/8Mv8xLnw0tN5zt+19KeAlGrJLGA9hnMmKV9PnjlhHrvqLTLCPW2foP/ksJXxBWAZOeLpGXU+Gt5c6GwiJCWLdWfQcpTAjrxpJ7/YR1V+HLR8K6pfxFSWHdUn6pTFhECIsIYREhLCKEdS3jC3/jvc6Hbxu0u+HqTtruLKzLqbGnWViXM/7WjPOYYxEhrKt7bn0+fPTy02aIMGIRISwihEWEsIgQFhHCIkJYRAiLCGERISwihEWEsIgQFhHCIkJYRAiLCGERISwihEWEsIgQFhHCIkJYRAiLCGERISwihEWEsIgQFhHCIkJYRAiLCGERISwihEWEsIgQFhHCIkJYRAiLCGERISwihEWEsIgQFhHCIkJYRAiLCGERISwihEWEsIgQFhHCIuIPeTuRjPELZbEAAAAASUVORK5CYII=\" alt=\"Mol\"/></td>\n",
       "    </tr>\n",
       "  </tbody>\n",
       "</table>"
      ],
      "text/plain": [
       "          Name       Pub                                                        SMILES  InverseAG  Antagon  Agonist  GBiased  Arrestin  partial                                 Comment                                                            Ref                                                                                                                                                                                                                                                                                                                                                                                                                                                                                                                                                                                                                                                                                                                                                                                                                                                                                                                                                                                                                                                                                                                                                                                                                                                                                                                                                                                                                                                                                                                                                                                                                                                                                                                                                                                                                                                                                                                                                                                                                                                                                                      ROMol\n",
       "0   Cannabinol      2543               CCCCCC1=CC2=C(C(=C1)O)C3=C(C=CC(=C3)C)C(O2)(C)C          0        0        0      NaN       NaN        1  Weak CB1 binder and strong CB2 agonist                                                            NaN                                                                                                                                                                                                                                                      <img src=\"data:image/png;base64,iVBORw0KGgoAAAANSUhEUgAAAMgAAADICAIAAAAiOjnJAAAE3UlEQVR4nO3d0ZKbRhRF0SaV//9l8qCJQoSlEdAHLrBW+cGukWRAe5pWgz3DOI4Nevvr6A3gmoRFhLCIEBYRwiJCWEQIiwhhESEsIoRFhLCIEBYRwiJCWEQIiwhhESEsIoRFhLCIEBYRwiJCWEQIiwhhESEsIoRFhLCIEBYRwiJCWEQIiwhhESEsIoRFhLCIEBYRwiJCWEQIiwhhESEsIoRFhLCIEBYRwiJCWEQIiwhhESEsIoRFhLCIEBYRwiJCWEQIiwhhESEsIoRFhLDuaxiG3IsLiwhh3dQwDOM45l5fWEQIiwhh3VH6PNiERYiwiBAWEcK6nR0mWE1YhAiLCGHtYhh+fj3/eNiG7HEebK39vcPfcXfD0J7v5fT3l2bEOsh0ALsiI9ZBjhi3djsPNiPWfUTvvpozYuWN439nvX0HqmlMj7Fqt0Frv7Hx1nacs89jmj9ghzfdiHUFv8Y0NY7jDm0ZsfJiw9Wzp1/fxPkj020Zsc7tQxyfh7H0uGXECksOV/P3btE58d2LdGHEuoLvz4kvcuOWsLKG1nY4I2wpI9SWBVJ+2ur7msIKys1gur9y97aExY++bQkrYhiGna/NddGxLZP3bv74UX/PGwpWS2yksDb5dd0o8ZnrFFO3vcNaveJSxzeLkI/HPL66z7W5avYI67zniKlvviXePaZyWydbID3kHJH27i6Uzw94fqn4/vbdvJ5hLb1QVf9YP82386hz+lmOWJ+wplOKRU7U1lORnS1+3PqsY43juHonE9cToo7a2Ze1sS7H7eJ3N5xx3Fpt0c5+/tzT8bh1P/4lwioudGHu81LF85Gfn172e7JKWGUPUMjL/m753FPz0NXaoHUHKP0BLbrS/fjNutd/SXPpizyfcv1LOt9/811j0bWVvEevi1phtY8H62IX5rp47nK1yMqF1f7fx00WXbts89J9z50HW82w2mSR5vB1yPpWT+Sjy4dFw2rXnXzMbd/U79taegZYrW5YG3Vp60R1vrQ1/dJuMU1dNqxWe2E6keyWuWl3Vw6rbWjrZf6RO7f2fdktc9O+Lh5W67c2dqJ5W4WNvH5Yrd/aWP226mxele3YwZb5R981p9y1lDph3WLEeui1NlZ/3KrgXv9g9XHpY/Vzp9eMC96cWCr3e4W1Ud+2SnXQnbDWW9fWtXt6EtYyLzEtamt+03rHDavW640m7728TN4/v52XuW9sKWGtUeRCb2XCWumlrUUx3WHB4uK7l7blpvVr/+NVI9YmG28au/CPL/Sp8FDj5Oc3XYuwjra5rYLnwWaOdXbzVbQib6g51im9XFmaxvRuwXbn4IR1Hv8WM/z2P7y9efbrPbEdN21OWOXNfjrruiKMWPc2/yG/NeZMSwmrkumy1smXuCw3ECEsIoRFhAXSYuaT96+eVO59NHkvplgfqzkVEiEsIoRFhLCIEBYRwiJCWEQI6wqqrY42YREiLCKERYSwiBAWEcIiQlhECIsIYREhLCKERYSwiBAWEcIiQlhECIsIYREhLCKERYSwiBAWEcIiQlhECIsIYREhLCKERYSwiBAWEcIiQlhECIsIYREhLCKERYSwiBAWEcIiQlhECIsIYREhLCKERYSwiBAWEcIiQlhECIsIYREhLCKERYSwiBAWEcIiQlhECIsIYREhLCL+AQlpPB1QJVnTAAAAAElFTkSuQmCC\" alt=\"Mol\"/>\n",
       "1      JWH-018  10382701              CCCCCN1C=C(C2=CC=CC=C21)C(=O)C3=CC=CC4=CC=CC=C43          0        0        1      NaN       NaN        0                      Strong CB1 agonist                                                            NaN                                  <img src=\"data:image/png;base64,iVBORw0KGgoAAAANSUhEUgAAAMgAAADICAIAAAAiOjnJAAAFfElEQVR4nO3d3XabOhQAYamr7//K9ILEJRiwHTSStjTfVU9Wc0zIZIu/uHlZliSV9qf1BmhMhiWEYQlhWEIYlhCGJYRhCWFYQhiWEIYlhGEJYVhCGJYQhiWEYQlhWEIYlhCGJYRhCWFYQhiWEIYlhGEJYVhCGJYQhiWEYQlhWEIYlhCGJYRhCWFYQhiWEIYlhGEJYVhCGJYQhiWEYQlhWEL8bb0BleSc1z/4DybUMXJYj5jSpqecs21VMNRe3paUzoeTbVUQfhcfjqV3Piv6F965qPv3o2Omw79sW6jAx1jXWbycZMuy2BYn5J49DOLNA6x3/le6L/DEWnkdoU/hw7rZkwsixCvvX2213orRxAuLGDC2VVy8sCC2VZZh/WdbBQULCzrQ3p5a2lYRwcJSFIb1Ywp66aGUSGH5XQ8kUlgKxLCEmD0sD7AgYcLaFdB2Y/RSmLC2vNrUvzBh7WIq0pbrICdMWIlpS5BIYSXbiiNYWIlfE1VEvLCSMUUQMqz0sy0XxA5FDSvdbstxhQocVio0t1wTCbHDSvfayjm7hkIG+WF9/1Knb0FTR/jfK1xtfz3w+pek2wf02JjmW0Ia6if17Eb1m28cUmNX5Py/p+2fhzPIxFrtjrd+8bkj/Zi1NVRYK+PoQfizwoLAC63znXsONfyLrGXlF8TdsdQcB+8DLoVdG/qAfculcK/wgjjNaeDOYGGV+bZ5V/u+wcLqzKzjKhnWmftDK09W0o5hnSq5IM4XmWEdKP77P7NVlbzc8GzbxPPQ+vQS17S3iQzrynMWF8PMh3C2DOuHl891vfmk1/q5Mxc271f+rOwvRs9cVXJiPcTt4PpUo9UXZVgHikRWZyl8+RLvHBQSDCulod8d5OJfA0Vf1+tYYFX0Pcc77xlGb9sgYW130Ue7K+6s+vWW17m/PkhY6amnT/ceVFXPD0qg2xY7rO1uWZaD/7zeb4+YYs2qdG/Q1mk9cFgvb8Ety1Ve1WIq/o0suHxzkYU8K1x3xfP+3A2txwe/PyWnzVlS0EOrIipcCokX1vWgOmwrfeX1tep9f6TeIljwG1n8bAOKLFJYOeez6zLbD75aH3+cn8eaVcUXQe7LjxEWEUHlpHq+J01sW+9hRZwrkCiL4Krrs8L1yx6mqjunYPSF3OKnh71PrPG0uit89orQ0DKseoo8icAtXmUjM6yOXD+eeva2cvdflIi162Oskdx5EqGagkdahlXD/UNv9AYfsc4alhCGhSt1paDmY4P3GRYryoOExbfNsCLp+bHBna7DCrQfD007rlLnYYUGVYU+NliQYQlhWAh0ESw4tCZ9uiGomQ+tHrxXGNL2Bt/h9Gpes2EVVn9cHb7E2VpZbdv6HdSrnpeSM9W2+dcvVGELnVixvZxMrfQ7D0I/7d78DYyav2lWpxMr4grYleZ7r7vLDTnnAaqK9SQCoa+J1f/+6kGIvdTLxBpjUG1Fv4N+UxcTa7CkUFH2VeOJNd6g2oryJAKh5cQKtJv0qTYTa+xBtRXiSQRCg4kVawd1ItxO6+LgfWz9P4lAMKyq+nwSgWBYNVy/P8LLdwoJV1UyrJq6fRKBYFiV9PwkAsGw2guazrVe7hVqMIYlhGEJYVhCGJYQhiWEYQlhWEIYlhCGJYRhCWFYQlS9CR367Rj0kUphmdRsaoQV9BlI3cGG5aCaFhWWSU0OCcu1T4XDclBpVSwsk9JWmbBc+7RT5sq7VWnHWzpCGJYQhiWEYQlhWEIYlhCGJYRhCWFYQhiWEIYlhGEJYVhCGJYQhiWEYQlhWEIYlhCGJYRhCWFYQhiWEIYlhGEJYVhCGJYQhiWEYQlhWEIYlhCGJYRhCWFYQhiWEIYlhGEJYVhCGJYQhiWEYQnxD5CagqMj2hMiAAAAAElFTkSuQmCC\" alt=\"Mol\"/>\n",
       "2  Win-55212-2   5311501  CC1=C(C2=C3N1C(COC3=CC=C2)CN4CCOCC4)C(=O)C5=CC=CC6=CC=CC=C65          0        0        1      NaN       NaN        0           Strong CB1 agonist, Alzheimer  https://pubchem.ncbi.nlm.nih.gov/compound/5311501#section=Top  <img src=\"data:image/png;base64,iVBORw0KGgoAAAANSUhEUgAAAMgAAADICAIAAAAiOjnJAAAFlElEQVR4nO3d0ZKiOBhAYZja93/lzEVmFQFRkv+EEM9Xe2HNdCsjx4SG0DunlCYp2p+rN0BjMiwhDEsIwxLCsIQwLCEMSwjDEsKwhDAsIQxLCMMSwrCEMCwhDEsIwxLCsIQwLCEMSwjDEsKwhDAsIQxLCMMSwrCEMCwhDEsIwxLCsIQwLCEMSwjDEsKwhDAsIQxLCMMSwrCEMCwhDEsIwxLCsIQwLCEMSwjDEsKwhDAsIQxLCMMSwrCEMCwhDEsIwxLCsIQwLCEMSwjDEsKwhDAsIQxLCMMSwrCEMCwhDEsIwxLCsIQwLCEM61fM8zzPc7OX+6/ZK+kquaeU0uox+6INXkNXeZfRPOP73anws5YzSJQ88aWUlgE9/iEpJXpmdCq8yGOnRo8cB5Nd7ik/eMyM0NAFhnXqA/FbM/I8P3taPq591s/HT6uelqmFbMMDFdbZj0KDWX9gZ+NoMHR5jPXZYzf07GwWOSnuqIsJ63z+t9h5/Tv7Hi57WqVWCZgKSw8aUkpxxxt9S4k7eD/LqXAg+QN0dVJL4Qe40WHVjTnLT7JurbsRq6ePscpFh2UXzfV5pqa7EatPt/ihtavCDOsC8+bBeAxLT4FjXqcXoXcvpu3NRc8/6mcWOPbYeV3NXOEiwmLO9W1PXOxesF98Pbif8pNHXa/t/3CtXvVU+DjXF30Oqp9zWsu1AJXX1LaXfgO3syudToUF8i4PH7S2z1m2xnf79SET4jLNsue52bKZEGcHrfC25vn5jq+e+fu8jr+meIZdrWQv+Fej69+7Dmu6dEJcHeTtFnCc15d77mwcu5txqpIGt1REfL5XB+/VSxQqnyBk0DrYhm8yqh+Eir+gbPgMT435SaoijZCVMw1+kuf20O7Gf/+07/7tzZLKep8Ku3UwMlXupNW8VrPs+PGHlbEWwD7ZRSNP4EK/lqcf64+jPz5t2be/+94Gx1jYzRTLc5cNvm8DOvvw7rXyg/BXrHm23Xeg2Z3QVFgF+5U+df7/w9W0Bd2LFabmbVlOi82SykY+xlrdhXLwlR32FOWq65JgWGfXMDU4af7+pbtr6+6XqNkR69ZvjWoMux7r7Ce+/hT/3ceYWMOGVeD9qq97u6T4McM69Va+XhBEtqfYfUfBMcOq0c86sFsbMKz7fspHMmBY9QoGLWteGS2sqB2c0pXrhgfIdOQz75yB16pHGSqs2A/6wZWDdwueOhxmrtqqocIinF0I1cnqhsaXnLfGCSt8p35cz7QU3lNxGZcnlY0TFnf71+5r0dtQsCphd+Fo/ZaU6fGwoFjs6k1i6WbZs03n7zC7fNwaKqxpCltaVX8faZt5ucOk/m3G5VsQL+D+s5AbyOLbml6XQU9dJpWNc4zVm/BjvtVRV7dJZSOG1eF60DiVN4c1M+JUWCf80Ju6ca/XpLLRrhX2Y3V7TLiUUrdVTYa10udlmTsyLMQj0J8t1bCeljVcvS23N+JPhUvbX7G0/Ms331R5psDhaho8rO3N86tfC7PzHS//69GfzaKeU+GL+h/iHK4yw3qLO1PwCwxrbfWrRE619eOj1NLQYeVrO/m/c7fbl7eVWdjQB+9T+a3Nvf1+r9sZesSqs/2tZV+ysMmwjp1qy5iWDOtbX3bjcJWNfoxV7eBgy5MRB/x4feXUvTqaDEsQj7GEMCwhDEsIwxLCsIQwLCEMSwjDEsKwhDAsIQxLCMMSwrCEMCwhDEsIwxLCsIQwLCEMSwjDEsKwhDAsIQxLCMMSwrCEMCwhDEsIwxLCsIQwLCEMSwjDEsKwhDAsIQxLCMMSwrCEMCwhDEsIwxLCsIQwLCEMSwjDEsKwhDAsIQxLCMMSwrCEMCwhDEsIwxLCsIQwLCEMSwjDEsKwhDAsIQxLCMMSwrCEMCwhDEsIwxLCsIQwLCH+AnpscjbngLODAAAAAElFTkSuQmCC\" alt=\"Mol\"/>\n",
       "3      JWH-133   6918505                 CCCC(C)(C)C1=CC2=C(C=C1)C3CC(=CCC3C(O2)(C)C)C          0        0        1      NaN       NaN        0   Strong CB2 agonist, Alzheimer, Cancer              https://pubchem.ncbi.nlm.nih.gov/compound/6918505                                                                                                                                                                                                                                                                                                                                      <img src=\"data:image/png;base64,iVBORw0KGgoAAAANSUhEUgAAAMgAAADICAIAAAAiOjnJAAAEoElEQVR4nO3c0ZKaShSGUUid939lcmFqiqMjg0P/zW5Y625SBhW/bLBhMi/LMkFrf85+AVyTsIgQFhHCIkJYRAiLCGERISwihEWEsIgQFhHCIkJYRAiLCGERISwihEWEsIgQFhHCIkJYRAiLCGERISwihEWEsIgQFhHCIkJYRAiLCGERISwihEWEsIgQFhHCIkJYRAiLCGERISwihEWEsIgQFhHCIkJYRAiLCGERISwihEWEsIgQFhHCIkJYRAiLCGERISwihEVE+7DmeW6+TYZjYhHRPqxlWQwtTCwiImEZWphYRKTCMrRuzsQiQlhEBMNyNLwzE4uIbFiG1m2ZWETEwzK07snEIqJHWIbWDf3X7ZnWbS3L0u15OUWPsOZ5fippY4Bp7hqeP/L2T/BS1Y+PX/+os0H1OxTutC7Jmdm4sifv63H1i0qc9Y8rGNZTVQ5qt5IKq1VJhtagIudYT1XVH1e+MTQXP3kfoiqrIc21/9QTp1a5Oq2GhDSeWPXn0zs7LwxEV0PG3XuvWr6T6KlVYqe/2+a7Yl4fXP89niV1jlV/H228wnd/7nLnfs0+/g6rVg03e/lNna7NOtaV9ghNtD8U1o+s7St8LOEe32Dz/XbuF9g2Ya13bu4NNPkI63ffxOmLc+XubogKVdVqaEVtvLzEbGsWVp+de+RZ6n/2rXz6Tk2sf3zt31Dk389gYe0/dXh9WHR3FzkaVngNDy3DSu/cbze+ZzFz42GEDDax9ut/i/PpQ6vOuJqa3+iXuy/vyF6rf7fg9ZZRxvhN6CPfBJu/mA1nFVytqmmI/467yV6LfuRPW55XQs9Y32XPsR46nPdsX33vsN5dcFxN9cNquNcSkf24wf3r3Y8fP315NauaQmGVui7b7cvakfXur7/7OuG206xZ1VR5YlXeaw+JW9C+vUn1x8cUlArr4Jyof7W426/jbqRWubDsxCpyUa/50fDcaVq5py/BsH79/Sg9AA5uv/nvjNQ/6P9Cv3OszvcDhQz3S95nKbHyvqzknmJ9atJk6VJVG0qEtVb5up6S9isXVs7BoeUg+JGKYXUbWh9d0VPVR+oukCa8W3m6zHp3HfcK653LrHfXUTSs6AW+PVsedL27jqJhFXRi5SOqePL+EDqFv+oHWU3dsCJU1UvpsCovlrKtdFiNzfNkXPVym7CqVnXVQ3P1sJodDS/6+ZVVPSwGNUBYTuFHVP3r99v/TOZ/P5R+C/dUceX99U75H1Y11/GJrIYSYR29Nfnbx39tU2pnOC2s7C/wrBcXqi40XFvvsNwjcBO9w9LTTQyw3MCISpy8t7csTt7PddGwJj2dbIxDocX34YwRFsMRFhHCIkJYRAiLCGERISwihEXEMGG5ej2WYcJiLMIiQlhECIsIYREhLCKERYSwiBAWEcIiQlhECIsIYREhLCKERYSwiBAWEcIiQlhECIsIYREhLCKERYSwiBAWEcIiQlhECIsIYREhLCKERYSwiBAWEcIiQlhECIsIYREhLCKERYSwiBAWEcIiQlhECIsIYREhLCKERYSwiBAWEcIiQlhECIsIYREhLCKERYSwiBAWEX8BEmGQeGPz8BwAAAAASUVORK5CYII=\" alt=\"Mol\"/>\n",
       "4       HU-210   9821569          CCCCCCC(C)(C)C1=CC2=C(C3CC(=CCC3C(O2)(C)C)CO)C(=C1)O          0        0        1      1.0       0.0        0     Both CB1 and CB2 agonist, Alzheimer              https://pubchem.ncbi.nlm.nih.gov/compound/9821569                                                                                                                                                                                                                                                                                  <img src=\"data:image/png;base64,iVBORw0KGgoAAAANSUhEUgAAAMgAAADICAIAAAAiOjnJAAAEx0lEQVR4nO3dbZOaSBiGUUnl//9l8sGEIQyjvPQNj3BObdVONtFFvWzapmfS9X3/gNZ+nX0AXJOwiBAWEcIiQlhECIsIYREhLCKERYSwiBAWEcIiQlhECIsIYREhLCKERYSwiBAWEcIiQlhECIsIYREhLCKERYSwiBAWEcIiQlhECIsIYREhLCKERYSwiBAWEcIiQlhECIsIYREhLCKERYSwiBAWEcIiQlhECIsIYREhLCKERYSwiBAWEcIiQlhECIsIYREhLCKERYSwiBAWEcK6jq7rzj6EL8IiQlhECIsIYREhLCKERYSwiBAWEcIiQlhECIuI32cfAC8Nl//6vsWdfV1M7Fvc4QvCKqzrvnp6fr24s9kL0umYxoT1Std1R74Y7407e/77/98fejr9sIX1mf51M86n1NvA5P06+r6vsyXLiPWj0waAYWq1ZlJVjbCKGU/YH5/X08CpkAhhBXX/LP/zO4eoOtMsp8KU8RRtycpkqc90+wlr3s6XeXLz8deTEeVKMY0Jq73JWDVJZ/LLyZLm/nHreTY8vVdzrMZeV/Vd3/enR5Bwr7DWzqY33P+qqgbDpLvO7HunG50Kl8+m959KKpyMznWXsBbOpptM2E+vqsI06xZvrOXP8uaPbE2qet62SRNHbr2adf0Ra+1c5/F/JZPfev2/aNLE/rYmNz9lb9bFw9r5Ci1Zf6pzBpwcz2D2qNJD2sXDaii9/nSw2c8xDV15uWHbi73wVpP1pyZV7V9r2PCQQwsclw3rmCEk9Kpsu9tSo+ZnnArXTghKPcXHqPaQax3NrLWfcdp+pArdpNoBNO+y+ohV5DPOwYbLOwv/cMGHXDqs5U9ZwWd2m7W7uMqqGPvTWW/E6GfJzXfydhVtv7ZPeOkR63g1TyuPd6toBRVdbij7AuesvfTU/Plpu3RSMaxPrGrnq7LtIVfevBU/Fd5wCWrteeoCD/m77EM6eAnqdG8fb9lNhc0vpQdHLEtQsxk9vyh16TpxGKmwbrgE9fh5y8Dw3ws+2M379F+LhFXkjXiin1YHHoElqIabTq1jfZjZiVeF915uCGi/3GC4ei2xBLVN6CT41DgsVS3Udglqw71Fq3q0DUtVqxR5pkKvWrOwVLVaP/qBfQ3ubMWgdcA3gLQJS1VFdF33Nq9jvq1IEGfb/cPW5u5y3bdDJlhuuKAXl5WiE/YxI9a9HLaKVnHbDDmHraIJ644O2MglLCKERYSwCui6v/8Mv8xLnw0tN5zt+19KeAlGrJLGA9hnMmKV9PnjlhHrvqLTLCPW2foP/ksJXxBWAZOeLpGXU+Gt5c6GwiJCWLdWfQcpTAjrxpJ7/YR1V+HLR8K6pfxFSWHdUn6pTFhECIsIYREhLCKEdS3jC3/jvc6Hbxu0u+HqTtruLKzLqbGnWViXM/7WjPOYYxEhrKt7bn0+fPTy02aIMGIRISwihEWEsIgQFhHCIkJYRAiLCGERISwihEWEsIgQFhHCIkJYRAiLCGERISwihEWEsIgQFhHCIkJYRAiLCGERISwihEWEsIgQFhHCIkJYRAiLCGERISwihEWEsIgQFhHCIkJYRAiLCGERISwihEWEsIgQFhHCIkJYRAiLCGERISwihEWEsIgQFhHCIuIPeTuRjPELZbEAAAAASUVORK5CYII=\" alt=\"Mol\"/>"
      ]
     },
     "execution_count": 46,
     "metadata": {},
     "output_type": "execute_result"
    }
   ],
   "source": [
    "#converting into the RDKit mol object\n",
    "from rdkit.Chem import PandasTools\n",
    "PandasTools.AddMoleculeColumnToFrame(Data, smilesCol='SMILES')\n",
    "PandasTools.FrameToGridImage(Data.head(16), legendsCol='Name', molsPerRow=4)\n",
    "Data = Data[~Data['ROMol'].isnull()]\n",
    "Data.head()"
   ]
  },
  {
   "cell_type": "code",
   "execution_count": 6,
   "metadata": {
    "collapsed": false,
    "deletable": true,
    "editable": true
   },
   "outputs": [],
   "source": [
    "#generating 2D structures\n",
    "import numpy as np\n",
    "from rdkit.Chem import AllChem\n",
    "ms = [x for x in Data.ROMol if x is not None]\n",
    "for m in ms: tmp=AllChem.Compute2DCoords(m)\n",
    "#Data['2D']=ms[:]"
   ]
  },
  {
   "cell_type": "code",
   "execution_count": 7,
   "metadata": {
    "collapsed": false,
    "deletable": true,
    "editable": true
   },
   "outputs": [],
   "source": [
    "#saving all molecules as a single sdf file\n",
    "PandasTools.WriteSDF(Data, 'Cannabinoid.sdf', idName='Name', properties=Data.columns)"
   ]
  },
  {
   "cell_type": "code",
   "execution_count": 24,
   "metadata": {
    "collapsed": false,
    "deletable": true,
    "editable": true
   },
   "outputs": [
    {
     "data": {
      "text/plain": [
       "['[16*]c1cc(O)c2c(c1)OC(C)(C)c1ccc(C)cc1-2', '[8*]CCCCC']"
      ]
     },
     "execution_count": 24,
     "metadata": {},
     "output_type": "execute_result"
    }
   ],
   "source": [
    "#loading and breaking the first molecule into fragments with the synthetic reaction path\n",
    "from rdkit.Chem import BRICS\n",
    "cdk2mols = Chem.SDMolSupplier('Cannabinoid.sdf')\n",
    "m1 = cdk2mols[0]\n",
    "sorted(BRICS.BRICSDecompose(m1))"
   ]
  },
  {
   "cell_type": "code",
   "execution_count": 25,
   "metadata": {
    "collapsed": false,
    "deletable": true,
    "editable": true
   },
   "outputs": [
    {
     "data": {
      "text/plain": [
       "['[1*]C([6*])=O',\n",
       " '[15*]C1C2(C)CCC(C2)C1(C)C',\n",
       " '[16*]c1ccc(C)cc1',\n",
       " '[16*]c1ccc(Cl)c(C)c1',\n",
       " '[5*]N[5*]',\n",
       " '[8*]C[8*]',\n",
       " '[9*]n1nc([14*])cc1[14*]']"
      ]
     },
     "execution_count": 25,
     "metadata": {},
     "output_type": "execute_result"
    }
   ],
   "source": [
    "m2 = cdk2mols[10]\n",
    "sorted(BRICS.BRICSDecompose(m2))"
   ]
  },
  {
   "cell_type": "code",
   "execution_count": 26,
   "metadata": {
    "collapsed": true,
    "deletable": true,
    "editable": true
   },
   "outputs": [],
   "source": [
    "#loading and breaking all the molecule into fragments with the synthetic reaction path\n",
    "allfrags=set()\n",
    "for m in cdk2mols:\n",
    "    pieces = BRICS.BRICSDecompose(m)\n",
    "    allfrags.update(pieces)\n",
    "    len(allfrags)"
   ]
  },
  {
   "cell_type": "code",
   "execution_count": 27,
   "metadata": {
    "collapsed": false,
    "deletable": true,
    "editable": true
   },
   "outputs": [
    {
     "data": {
      "text/plain": [
       "['[1*]C(=O)CCCC[7*]',\n",
       " '[1*]C(C)=O',\n",
       " '[1*]C([6*])=O',\n",
       " '[15*]C1C2(C)CCC(C2)C1(C)C',\n",
       " '[15*]C1C=C(C)CCC1C(=C)C',\n",
       " '[16*]c1cc(O)c([16*])c(O)c1',\n",
       " '[16*]c1cc(O)c2c(c1)OC(C)(C)C1CC=C(C(=O)O)CC21',\n",
       " '[16*]c1cc(O)c2c(c1)OC(C)(C)C1CC=C(CO)CC21',\n",
       " '[16*]c1cc(O)c2c(c1)OC(C)(C)C1CCC(C)=CC21',\n",
       " '[16*]c1cc(O)c2c(c1)OC(C)(C)c1ccc(C)cc1-2',\n",
       " '[16*]c1cc([16*])c2c(c1)NC(C)C1CCC(O)CC21',\n",
       " '[16*]c1ccc(C)cc1',\n",
       " '[16*]c1ccc(Cl)c(C)c1',\n",
       " '[16*]c1ccc([16*])cc1',\n",
       " '[16*]c1ccc2c(c1)OC(C)(C)C1CC=C(C)CC21',\n",
       " '[16*]c1cccc2ccccc12',\n",
       " '[16*]c1ccccc1',\n",
       " '[3*]OC',\n",
       " '[3*]O[3*]',\n",
       " '[4*]C(C)CCC[8*]',\n",
       " '[4*]CC1COc2cccc3c([16*])c(C)n1c23',\n",
       " '[4*]CCN',\n",
       " '[4*]CC[8*]',\n",
       " '[5*]N1CCOCC1',\n",
       " '[5*]N[5*]',\n",
       " '[6*]C([6*])=O',\n",
       " '[7*]CCCCCC',\n",
       " '[7*]CCC[7*]',\n",
       " '[8*]C(C)(C)CCC',\n",
       " '[8*]C(C)(C)CCCCCC',\n",
       " '[8*]CCCC',\n",
       " '[8*]CCCCC',\n",
       " '[8*]CCCCCF',\n",
       " '[8*]C[8*]',\n",
       " '[9*]n1c(C)c([16*])c2ccc(I)cc21',\n",
       " '[9*]n1cc([16*])c2ccccc21',\n",
       " '[9*]n1nc([14*])cc1[14*]']"
      ]
     },
     "execution_count": 27,
     "metadata": {},
     "output_type": "execute_result"
    }
   ],
   "source": [
    "sorted(allfrags)[:]"
   ]
  },
  {
   "cell_type": "code",
   "execution_count": 52,
   "metadata": {
    "collapsed": true,
    "deletable": true,
    "editable": true
   },
   "outputs": [],
   "source": [
    "#generating the new compunds using the database of fragments we created\n",
    "import random\n",
    "random.seed(130)\n",
    "fragms = [Chem.MolFromSmiles(x) for x in sorted(allfrags)]\n",
    "ms = BRICS.BRICSBuild(fragms)"
   ]
  },
  {
   "cell_type": "code",
   "execution_count": 53,
   "metadata": {
    "collapsed": false,
    "deletable": true,
    "editable": true
   },
   "outputs": [
    {
     "data": {
      "text/plain": [
       "<generator object BRICSBuild at 0x7f9b54858308>"
      ]
     },
     "execution_count": 53,
     "metadata": {},
     "output_type": "execute_result"
    }
   ],
   "source": [
    "ms"
   ]
  },
  {
   "cell_type": "code",
   "execution_count": 65,
   "metadata": {
    "collapsed": false,
    "deletable": true,
    "editable": true
   },
   "outputs": [
    {
     "data": {
      "image/png": "[encoded data removed]",
      "text/plain": [
       "<rdkit.Chem.rdchem.Mol at 0x7f9b549015b0>"
      ]
     },
     "execution_count": 65,
     "metadata": {},
     "output_type": "execute_result"
    }
   ],
   "source": [
    "# you can iterate through \n",
    "products = [next(ms) for x in range(50)]\n",
    "products[2]"
   ]
  },
  {
   "cell_type": "code",
   "execution_count": 66,
   "metadata": {
    "collapsed": false,
    "deletable": true,
    "editable": true
   },
   "outputs": [
    {
     "name": "stdout",
     "output_type": "stream",
     "text": [
      "CCCC(C)(C)n1nc(Nc2cccc3ccccc23)cc1-c1ccc2c(c1)OC(C)(C)C1CC=C(C)CC21\n",
      "CCCC(C)(C)n1nc(Nc2cccc3ccccc23)cc1-c1cccc2ccccc12\n",
      "CCCC(C)(C)n1nc(Nc2cccc3ccccc23)cc1-c1ccccc1\n",
      "CCCC(C)(C)n1nc(Nc2cccc3ccccc23)cc1N1CCOCC1\n",
      "CCCC(C)(C)n1nc(Nc2cccc3ccccc23)cc1C1C2(C)CCC(C2)C1(C)C\n",
      "CCCC(C)(C)c1cc(Nc2cccc3ccccc23)nn1C(C)(C)CCC\n",
      "CCCCCCC(C)(C)c1cc(Nc2cccc3ccccc23)nn1C(C)(C)CCC\n",
      "CCCCc1cc(Nc2cccc3ccccc23)nn1C(C)(C)CCC\n",
      "CCCCCc1cc(Nc2cccc3ccccc23)nn1C(C)(C)CCC\n",
      "CCCC(C)(C)n1nc(Nc2cccc3ccccc23)cc1CCCCCF\n",
      "COc1cc(Nc2cccc3ccccc23)nn1-c1cccc2ccccc12\n",
      "CC1(C)Oc2cc(-c3cc(Nc4cccc5ccccc45)nn3-c3cccc4ccccc34)cc(O)c2C2CC(C(=O)O)=CCC21\n",
      "CC1(C)Oc2cc(-c3cc(Nc4cccc5ccccc45)nn3-c3cccc4ccccc34)cc(O)c2C2CC(CO)=CCC21\n",
      "CC1=CC2c3c(O)cc(-c4cc(Nc5cccc6ccccc56)nn4-c4cccc5ccccc45)cc3OC(C)(C)C2CC1\n",
      "Cc1ccc2c(c1)-c1c(O)cc(-c3cc(Nc4cccc5ccccc45)nn3-c3cccc4ccccc34)cc1OC2(C)C\n",
      "Cc1ccc(-c2cc(Nc3cccc4ccccc34)nn2-c2cccc3ccccc23)cc1\n",
      "Cc1cc(-c2cc(Nc3cccc4ccccc34)nn2-c2cccc3ccccc23)ccc1Cl\n",
      "CC1=CCC2C(C1)c1ccc(-c3cc(Nc4cccc5ccccc45)nn3-c3cccc4ccccc34)cc1OC2(C)C\n",
      "c1ccc2c(Nc3cc(-c4cccc5ccccc45)n(-c4cccc5ccccc45)n3)cccc2c1\n",
      "c1ccc(-c2cc(Nc3cccc4ccccc34)nn2-c2cccc3ccccc23)cc1\n",
      "c1ccc2c(Nc3cc(N4CCOCC4)n(-c4cccc5ccccc45)n3)cccc2c1\n",
      "CC12CCC(C1)C(C)(C)C2c1cc(Nc2cccc3ccccc23)nn1-c1cccc2ccccc12\n",
      "CCCC(C)(C)c1cc(Nc2cccc3ccccc23)nn1-c1cccc2ccccc12\n",
      "CCCCCCC(C)(C)c1cc(Nc2cccc3ccccc23)nn1-c1cccc2ccccc12\n",
      "CCCCc1cc(Nc2cccc3ccccc23)nn1-c1cccc2ccccc12\n",
      "CCCCCc1cc(Nc2cccc3ccccc23)nn1-c1cccc2ccccc12\n",
      "FCCCCCc1cc(Nc2cccc3ccccc23)nn1-c1cccc2ccccc12\n",
      "C=C(C)C1CCC(C)=CC1n1nc(Nc2cccc3ccccc23)cc1OC\n",
      "C=C(C)C1CCC(C)=CC1n1nc(Nc2cccc3ccccc23)cc1-c1cc(O)c2c(c1)OC(C)(C)C1CC=C(C(=O)O)CC21\n",
      "C=C(C)C1CCC(C)=CC1n1nc(Nc2cccc3ccccc23)cc1-c1cc(O)c2c(c1)OC(C)(C)C1CC=C(CO)CC21\n",
      "C=C(C)C1CCC(C)=CC1n1nc(Nc2cccc3ccccc23)cc1-c1cc(O)c2c(c1)OC(C)(C)C1CCC(C)=CC21\n",
      "C=C(C)C1CCC(C)=CC1n1nc(Nc2cccc3ccccc23)cc1-c1cc(O)c2c(c1)OC(C)(C)c1ccc(C)cc1-2\n",
      "C=C(C)C1CCC(C)=CC1n1nc(Nc2cccc3ccccc23)cc1-c1ccc(C)cc1\n",
      "C=C(C)C1CCC(C)=CC1n1nc(Nc2cccc3ccccc23)cc1-c1ccc(Cl)c(C)c1\n",
      "C=C(C)C1CCC(C)=CC1n1nc(Nc2cccc3ccccc23)cc1-c1ccc2c(c1)OC(C)(C)C1CC=C(C)CC21\n",
      "C=C(C)C1CCC(C)=CC1n1nc(Nc2cccc3ccccc23)cc1-c1cccc2ccccc12\n",
      "C=C(C)C1CCC(C)=CC1n1nc(Nc2cccc3ccccc23)cc1-c1ccccc1\n",
      "C=C(C)C1CCC(C)=CC1n1nc(Nc2cccc3ccccc23)cc1N1CCOCC1\n",
      "C=C(C)C1CCC(C)=CC1n1nc(Nc2cccc3ccccc23)cc1C1C2(C)CCC(C2)C1(C)C\n",
      "C=C(C)C1CCC(C)=CC1n1nc(Nc2cccc3ccccc23)cc1C(C)(C)CCC\n",
      "C=C(C)C1CCC(C)=CC1n1nc(Nc2cccc3ccccc23)cc1C(C)(C)CCCCCC\n",
      "C=C(C)C1CCC(C)=CC1n1nc(Nc2cccc3ccccc23)cc1CCCC\n",
      "C=C(C)C1CCC(C)=CC1n1nc(Nc2cccc3ccccc23)cc1CCCCC\n",
      "C=C(C)C1CCC(C)=CC1n1nc(Nc2cccc3ccccc23)cc1CCCCCF\n",
      "CCCCn1nc(Nc2cccc3ccccc23)cc1OC\n",
      "CCCCn1nc(Nc2cccc3ccccc23)cc1-c1cc(O)c2c(c1)OC(C)(C)C1CC=C(C(=O)O)CC21\n",
      "CCCCn1nc(Nc2cccc3ccccc23)cc1-c1cc(O)c2c(c1)OC(C)(C)C1CC=C(CO)CC21\n",
      "CCCCn1nc(Nc2cccc3ccccc23)cc1-c1cc(O)c2c(c1)OC(C)(C)C1CCC(C)=CC21\n",
      "CCCCn1nc(Nc2cccc3ccccc23)cc1-c1cc(O)c2c(c1)OC(C)(C)c1ccc(C)cc1-2\n",
      "CCCCn1nc(Nc2cccc3ccccc23)cc1-c1ccc(C)cc1\n"
     ]
    }
   ],
   "source": [
    "# Sanitizing the molecules to check for the covalent bonds\n",
    "for prod in products:\n",
    "    prod.UpdatePropertyCache(strict=False)\n",
    "    print(Chem.MolToSmiles(prod,True))"
   ]
  },
  {
   "cell_type": "code",
   "execution_count": 67,
   "metadata": {
    "collapsed": false
   },
   "outputs": [],
   "source": [
    "import csv\n",
    "with open('./hypotheticalprods.csv', 'w') as f:\n",
    "    writer= csv.writer(f)\n",
    "    for prod in products:\n",
    "        writer.writerow([Chem.MolToSmiles(prod,True)])"
   ]
  },
  {
   "cell_type": "code",
   "execution_count": null,
   "metadata": {
    "collapsed": true
   },
   "outputs": [],
   "source": []
  }
 ],
 "metadata": {
  "kernelspec": {
   "display_name": "Python 3",
   "language": "python",
   "name": "python3"
  },
  "language_info": {
   "codemirror_mode": {
    "name": "ipython",
    "version": 3
   },
   "file_extension": ".py",
   "mimetype": "text/x-python",
   "name": "python",
   "nbconvert_exporter": "python",
   "pygments_lexer": "ipython3",
   "version": "3.5.3"
  }
 },
 "nbformat": 4,
 "nbformat_minor": 2
}
